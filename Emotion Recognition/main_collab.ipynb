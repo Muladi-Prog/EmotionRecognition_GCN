{
  "cells": [
    {
      "cell_type": "code",
      "execution_count": 1,
      "metadata": {
        "id": "neKACmgfZSqG"
      },
      "outputs": [],
      "source": [
        "import torch\n",
        "# print(torch.__version__)\n",
        "!pip install torch==1.12.1\n",
        "!pip install torch-scatter torch-sparse -f https://data.pyg.org/whl/torch-1.12.1+cu102.html\n",
        "!pip install torch-geometric\n",
        "!pip install optuna\n",
        "# print(torch.__version__)\n",
        "# I ran this on Collab"
      ]
    },
    {
      "cell_type": "code",
      "execution_count": 2,
      "metadata": {
        "colab": {
          "base_uri": "https://localhost:8080/"
        },
        "id": "DC65RDsrZjXH",
        "outputId": "c6c105c4-696a-4f55-fcb8-16cc2ba5572b"
      },
      "outputs": [
        {
          "name": "stdout",
          "output_type": "stream",
          "text": [
            "Drive already mounted at /content/drive; to attempt to forcibly remount, call drive.mount(\"/content/drive\", force_remount=True).\n"
          ]
        }
      ],
      "source": [
        "from google.colab import drive\n",
        "drive.mount('/content/drive')"
      ]
    },
    {
      "cell_type": "code",
      "execution_count": 3,
      "metadata": {
        "colab": {
          "base_uri": "https://localhost:8080/"
        },
        "id": "KTP0M4iWZY8w",
        "outputId": "8335d4f1-8aa8-4fa0-a6ff-27a0eeaa66db"
      },
      "outputs": [
        {
          "name": "stdout",
          "output_type": "stream",
          "text": [
            "['.config', 'sample_data', 'drive']\n"
          ]
        }
      ],
      "source": [
        "import os\n",
        "print(os.listdir())\n",
        "os.chdir(\"sample_data\")"
      ]
    },
    {
      "cell_type": "code",
      "execution_count": 4,
      "metadata": {
        "id": "22nh7hBRa47B"
      },
      "outputs": [],
      "source": [
        "\n",
        "# !unzip ../drive/MyDrive/\"Skripsi (1)\"/Face.zip"
      ]
    },
    {
      "cell_type": "code",
      "execution_count": 5,
      "metadata": {
        "id": "n2oo950Qa6xl"
      },
      "outputs": [],
      "source": [
        "os.chdir(\"GCN\")"
      ]
    },
    {
      "cell_type": "code",
      "execution_count": 6,
      "metadata": {
        "colab": {
          "base_uri": "https://localhost:8080/"
        },
        "id": "BvhUYSg-b-b8",
        "outputId": "f2e68865-3a2e-43ed-c430-7786631fb91b"
      },
      "outputs": [
        {
          "name": "stderr",
          "output_type": "stream",
          "text": [
            "/usr/local/lib/python3.10/dist-packages/torchvision/io/image.py:13: UserWarning: Failed to load image Python extension: '/usr/local/lib/python3.10/dist-packages/torchvision/image.so: undefined symbol: _ZN3c104impl8GPUTrace13gpuTraceStateE'If you don't plan on using image functionality from `torchvision.io`, you can ignore this warning. Otherwise, there might be something wrong with your environment. Did you have `libjpeg` or `libpng` installed before building `torchvision` from source?\n",
            "  warn(\n"
          ]
        },
        {
          "data": {
            "text/plain": [
              "device(type='cuda', index=0)"
            ]
          },
          "execution_count": 6,
          "metadata": {},
          "output_type": "execute_result"
        }
      ],
      "source": [
        "import optuna\n",
        "from transformer import GNN\n",
        "from dataload import load_data\n",
        "\n",
        "from focal_loss import FocalLoss\n",
        "import numpy as np\n",
        "from matplotlib import pyplot as plt\n",
        "from sklearn.metrics import confusion_matrix, f1_score, \\\n",
        "    accuracy_score, precision_score, recall_score, roc_auc_score,classification_report\n",
        "from tqdm import tqdm\n",
        "import pandas as pd\n",
        "from torch_geometric.data import DataLoader\n",
        "device = torch.device(\"cuda:0\" if torch.cuda.is_available() else \"cpu\")\n",
        "device"
      ]
    },
    {
      "cell_type": "code",
      "execution_count": 7,
      "metadata": {
        "id": "ZbMv_48DbgRi"
      },
      "outputs": [],
      "source": [
        "def count_parameters(model):\n",
        "    return sum(p.numel() for p in model.parameters() if p.requires_grad)\n"
      ]
    },
    {
      "cell_type": "code",
      "execution_count": 8,
      "metadata": {
        "id": "W-HDqPrrb3n7"
      },
      "outputs": [],
      "source": [
        "\n",
        "def train_one_epoch(epoch, model, train_loader, optimizer, loss_fn):\n",
        "    # Enumerate over the data\n",
        "    all_preds = []\n",
        "    all_labels = []\n",
        "    running_loss = 0.0\n",
        "    step = 0\n",
        "    for _, batch in enumerate((train_loader)):\n",
        "        # Use GPU\n",
        "        batch.to(device)  \n",
        "        # Reset gradients\n",
        "        optimizer.zero_grad() \n",
        "        # Passing the node features and the connection info\n",
        "        pred = model(batch.x.float(), \n",
        "                                batch.edge_attr.float(),\n",
        "                                batch.edge_index,\n",
        "                                batch.batch) \n",
        "        # print(pred,batch.y-1)\n",
        "        # Calculating the loss and gradients\n",
        "        # print(pred,batch.y)\n",
        "        loss = loss_fn(pred, batch.y)\n",
        "        loss.backward()  \n",
        "        optimizer.step()  \n",
        "        # Update tracking\n",
        "        running_loss += loss.item()\n",
        "        step += 1\n",
        "        all_preds.append(torch.argmax(pred, dim=1).cpu().detach().numpy())\n",
        "        all_labels.append(batch.y.cpu().detach().numpy())\n",
        "    all_preds = np.concatenate(all_preds).ravel()\n",
        "    all_labels = np.concatenate(all_labels).ravel()\n",
        "    \n",
        "    return (running_loss/step),all_preds,all_labels\n"
      ]
    },
    {
      "cell_type": "code",
      "execution_count": 9,
      "metadata": {
        "id": "a57WEyxAb4Ik"
      },
      "outputs": [],
      "source": [
        "\n",
        "def test(epoch, model, test_loader, loss_fn):\n",
        "    all_preds = []\n",
        "    all_labels = []\n",
        "    running_loss = 0.0\n",
        "    step = 0\n",
        "    for batch in test_loader:\n",
        "        batch.to(device)  \n",
        "        pred = model(batch.x.float(), \n",
        "                        batch.edge_attr.float(),\n",
        "                        batch.edge_index,\n",
        "                        batch.batch) \n",
        "        \n",
        "        loss = loss_fn(pred, batch.y)\n",
        "        # print(torch.argmax(pred, dim=1).cpu().detach().numpy())\n",
        "        # print(batch.y)\n",
        "         # Update tracking\n",
        "        running_loss += loss.item()\n",
        "        step += 1\n",
        "        all_preds.append(torch.argmax(pred, dim=1).cpu().detach().numpy())\n",
        "        all_labels.append(batch.y.cpu().detach().numpy())\n",
        "    # flatten\n",
        "    all_preds = np.concatenate(all_preds).ravel()\n",
        "    all_labels = np.concatenate(all_labels).ravel()\n",
        "\n",
        "    # calculate_metrics(all_preds, all_labels, \"test\")\n",
        "    \n",
        "    return (running_loss/step),all_preds,all_labels"
      ]
    },
    {
      "cell_type": "code",
      "execution_count": 10,
      "metadata": {
        "id": "7yaWezCRb5wb"
      },
      "outputs": [],
      "source": [
        "import seaborn as sns\n",
        "\n",
        "def calculate_metrics(y_pred, y_true,status = \"Train\"):\n",
        "    \n",
        "    # print(f\"\\n Confusion matrix {status}: \\n {confusion_matrix(y_pred, y_true)}\")\n",
        "    data = confusion_matrix(y_pred, y_true)\n",
        "    df_cm = pd.DataFrame(data, columns=np.unique(y_true), index = np.unique(y_true))\n",
        "    df_cm.index.name = 'Actual'\n",
        "    df_cm.columns.name = 'Predicted'\n",
        "\n",
        "\n",
        "    # f, ax = plt.subplots(figsize=(5, 5))\n",
        "    # cmap = sns.cubehelix_palette(light=1, as_cmap=True)\n",
        "\n",
        "    # sns.heatmap(df_cm, cbar=False, annot=True, cmap=cmap, square=True, fmt='.0f',\n",
        "    #             annot_kws={'size': 10})\n",
        "    # plt.title('Actuals vs Predicted')\n",
        "    # plt.show()\n",
        "    # print(f\"Accuracy {status} : {accuracy_score(y_true, y_pred)}\")\n",
        "\n",
        "    a = [y_true,y_pred]\n",
        "    return a"
      ]
    },
    {
      "cell_type": "code",
      "execution_count": 11,
      "metadata": {
        "id": "oKPSc5V1b8Wa"
      },
      "outputs": [],
      "source": [
        "def my_plot(epochs, loss,title,flag = \"train\"):\n",
        "    if flag == \"train\":    \n",
        "     \n",
        "      plt.plot(epochs, loss,label=flag,color='green',linestyle='dashed')\n",
        "      plt.xlabel('Epoch') \n",
        "      plt.ylabel('Loss') \n",
        "      plt.title(\"Train \"+title)\n",
        "      plt.show()\n",
        "    else:\n",
        "     \n",
        "      plt.plot(epochs, loss,label=flag,color='red')\n",
        "      plt.xlabel('Epoch') \n",
        "      plt.ylabel('Accuracy') \n",
        "      plt.title(\"Test \"+title)\n",
        "      plt.show()\n",
        "\n",
        "\n",
        "\n",
        "  \n",
        "# displaying the title\n",
        "\n",
        "  \n"
      ]
    },
    {
      "cell_type": "code",
      "execution_count": 12,
      "metadata": {
        "id": "4Ax7WpRAiCuW"
      },
      "outputs": [],
      "source": [
        "def plot_akhir_loss(epoch,loss_train,loss_val):\n",
        "  epochs = range(0,epoch)\n",
        "  print(\"losss\")\n",
        "  print(loss_train[epoch-1])\n",
        "  print(loss_val[epoch-1])\n",
        "  plt.plot(epochs, loss_train, 'g', label='Training loss')\n",
        "  plt.plot(epochs, loss_val, 'b', label='Testing loss')\n",
        "  plt.title('Training and Testing loss')\n",
        "  plt.xlabel('Epochs')\n",
        "  plt.ylabel('Loss')\n",
        "  plt.legend()\n",
        "  plt.show()\n",
        "def plot_akhir_acc(epoch,acc_train,acc_test):\n",
        "  epochs = range(0,epoch)\n",
        "  print(\"Auc\")\n",
        "  print(acc_train[epoch-1])\n",
        "  print(acc_test[epoch-1])\n",
        "  plt.plot(epochs, acc_train, 'g', label='Training Accuracy')\n",
        "  plt.plot(epochs, acc_test, 'b', label='Testing Accuracy')\n",
        "  plt.title('Training and Testing Accuracy')\n",
        "  plt.xlabel('Epochs')\n",
        "  plt.ylabel('Accuracy')\n",
        "  plt.legend()\n",
        "  plt.show()"
      ]
    },
    {
      "cell_type": "code",
      "execution_count": 13,
      "metadata": {
        "id": "BTEFYxlTypQg"
      },
      "outputs": [],
      "source": [
        "def accuracy(pred,target):\n",
        "  return accuracy_score(target, pred)"
      ]
    },
    {
      "cell_type": "code",
      "execution_count": 14,
      "metadata": {
        "id": "beLqg98Ib-dU"
      },
      "outputs": [],
      "source": [
        "from sklearn.model_selection import KFold\n",
        "import time\n",
        "def run_one_training(params,dataset):\n",
        "   \n",
        "    print(\"**********************\")\n",
        "    print(\"Trial with: \", params)\n",
        "\n",
        "    results = {}\n",
        "    # Cross validation 5 splits\n",
        "    kfold = KFold(n_splits=5,shuffle=True,random_state = 42)\n",
        "    train_loss_final=[]\n",
        "    test_loss_final=[]\n",
        "    train_acc_final=[]\n",
        "    test_acc_final=[]\n",
        "    training_time=[]\n",
        "    hasil = 0\n",
        "    for fold, (train_ids, test_ids) in enumerate(kfold.split(dataset)):\n",
        "        # print('--------------------------------')\n",
        "        # print(f'FOLD {fold}')\n",
        "        # print('--------------------------------')\n",
        "        train_subsampler = torch.utils.data.SubsetRandomSampler(train_ids)\n",
        "        test_subsampler = torch.utils.data.SubsetRandomSampler(test_ids)\n",
        "        \n",
        "        train_loader = DataLoader(dataset, batch_size=params[\"batch_size\"],sampler=train_subsampler)\n",
        "        test_loader = DataLoader(dataset, batch_size=params[\"batch_size\"], sampler=test_subsampler)\n",
        "\n",
        "        # for step, data in enumerate(train_loader):\n",
        "        #     print(f'Step loader{step + 1}:')\n",
        "        #     print('=======')\n",
        "        #     print(f'Number of graphs in the current batch: {data.num_graphs}')\n",
        "        #     print(data)\n",
        "        #     print()\n",
        "      \n",
        "        params[\"model_edge_dim\"] = dataset[0].edge_attr.shape[1]\n",
        "        # Loading the model\n",
        "        # print(\"Loading model...\")\n",
        "        model_params = {k: v for k, v in params.items() if k.startswith(\"model_\")}\n",
        "        model = GNN(feature_size=dataset[0].x.shape[1], model_params=model_params) \n",
        "        model = model.to(device)\n",
        "        # print(model)\n",
        "        # print(f\"Number of parameters: {count_parameters(model)}\")\n",
        "    \n",
        "        # < 1 increases precision, > 1 recall\n",
        "        weight = torch.tensor([1.0635, 2.3929, 0.7976, 1.9143, 0.6837, 1.5952, 0.5630], dtype=torch.float32).to(device)\n",
        "        # pos_weight=weight\n",
        "        loss_fn = FocalLoss()  \n",
        "        # loss_fn = torch.nn.CrossEntropyLoss(weight=weight)\n",
        "        # optimizer = torch.optim.Adam(model.parameters(), lr=0.01)\n",
        "        optimizer = getattr(torch.optim, params['optimizer'])(model.parameters(), lr= params['learning_rate'],\n",
        "                                                              weight_decay=params[\"weight_decay\"])\n",
        "        # optimizer = torch.optim.Adam(model.parameters(), \n",
        "        #                             lr=params[\"learning_rate\"],\n",
        "        #                             # momentum=params[\"sgd_momentum\"],\n",
        "        #                             )\n",
        "        scheduler = torch.optim.lr_scheduler.ExponentialLR(optimizer, gamma=params[\"scheduler_gamma\"])\n",
        "    \n",
        "        # Start training\n",
        "        best_loss = 1000\n",
        "        early_stopping_counter = 0\n",
        "        loss_vals=[]\n",
        "        loss_train = []\n",
        "        acc_train = []\n",
        "        acc_vals= []\n",
        "        epoch_now = 0\n",
        "        epoch_now_test = 0\n",
        "        epoch_loss = 0\n",
        "        total_time = 0\n",
        "        for epoch in range(30): \n",
        "            \n",
        "            # if early_stopping_counter <= 10: \n",
        "                # Training\n",
        "            t0 = time.time()\n",
        "            model.train()\n",
        "            train_loss,pred_train,target_train = train_one_epoch(epoch, model, train_loader, optimizer, loss_fn)\n",
        "            loss_train.append(train_loss)\n",
        "            # calculate_metrics(pred_train, target_train,\"Train\")\n",
        "            acc_train.append(accuracy(pred_train,target_train))\n",
        "            # print(f\"Epoch {epoch} | Train Loss {train_loss}\")\n",
        "            spending_time = (time.time() - t0)\n",
        "            # print('{} seconds'.format(spending_time))\n",
        "            total_time+=spending_time\n",
        "            # print(\"================================================\")\n",
        "            \n",
        "\n",
        "            # Testing\n",
        "            model.eval()\n",
        "            \n",
        "            test_loss,pred_test,target_test = test(epoch, model, test_loader, loss_fn)\n",
        "            loss_vals.append(test_loss)\n",
        "            # calculate_metrics(pred_test, target_test,\"Test\")\n",
        "            acc_vals.append(accuracy(pred_test,target_test))\n",
        "            # print(f\"Epoch {epoch} | Test Loss {test_loss}\")\n",
        "            \n",
        "            # Update best loss\n",
        "            if float(test_loss) < best_loss:\n",
        "                best_loss = test_loss\n",
        "                # Save the currently best model \n",
        "                \n",
        "                early_stopping_counter = 0\n",
        "            else:\n",
        "                early_stopping_counter += 1\n",
        "            epoch_now_test +=1\n",
        "\n",
        "            scheduler.step()\n",
        "            epoch_now= epoch+1      \n",
        "            # else:\n",
        "            #     print(\"Early stopping due to no improvement.\")\n",
        "                # my_plot(np.linspace(1, epoch_now, epoch_now).astype(int), loss_vals)\n",
        "                \n",
        "\n",
        "                      \n",
        "            # print(f\"Finishing training with best test loss: {best_loss}\")\n",
        "            # my_plot(np.linspace(1, epoch_now, epoch_now).astype(int), loss_vals)\n",
        "        results[fold] = calculate_metrics(pred_test,target_test,\"FOLD\")\n",
        "        # print(\"Total time= \",(total_time / 30))\n",
        "        training_time.append((total_time / 30))\n",
        "        # Print fold results\n",
        "        # print(f'K-FOLD CROSS VALIDATION RESULTS FOR 5 FOLDS')\n",
        "        # print('--------------------------------')\n",
        "        sum = 0.0\n",
        "        labels = [\"anger\",\"contempt\", \"disgust\", \"fear\", \"happy\", \"sadness\",\"surprise\"]\n",
        "        sum_accuracy = 0\n",
        "        sum_prec = 0\n",
        "        sum_rec =0\n",
        "\n",
        "        for key, value in results.items():\n",
        "            print(f'Fold {key}')\n",
        "            # print(f\"Accuracy: {accuracy_score(value[0], value[1])}\")\n",
        "            acc  = accuracy_score(value[0], value[1])\n",
        "            prec = precision_score(value[0], value[1],average = None)\n",
        "            rec = recall_score(value[0], value[1],average = None)\n",
        "            # print(\"Precision: \",prec)\n",
        "            # print(\"Recall: \",rec)\n",
        "            # print(f\"\\n Confusion matrix fold: \\n {confusion_matrix(value[0], value[1])}\")\n",
        "            # print()\n",
        "            sum_accuracy += acc\n",
        "            sum_prec += prec\n",
        "            sum_rec += rec\n",
        "            # print(\"Classification Report\")\n",
        "            target_names =['anger', 'contempt', 'disgust', 'fear', 'happy', 'sadness','surprise']\n",
        "            # print(classification_report(value[0],value[1],target_names=target_names))\n",
        "        # print(\"================================================\")\n",
        "        # print(f'Average Accuracy: {sum_accuracy/len(results.items())} %')\n",
        "        hasil=(sum_accuracy/len(results.items()))\n",
        "        # print(f'Average Precision: {sum_prec/len(results.items())} %')\n",
        "        # print(f'Average Recall: {sum_rec/len(results.items())} %')\n",
        "        # print(\"Plotting\")\n",
        "        # my_plot(np.linspace(1, epoch_now, epoch_now).astype(int), loss_train,\"Loss\",\"train\")\n",
        "        # my_plot(np.linspace(1, epoch_now_test, epoch_now_test).astype(int), loss_vals,\"Loss\",\"test\")\n",
        "        # my_plot(np.linspace(1, epoch_now, epoch_now).astype(int), acc_train,\"Accuracy\",\"train\")\n",
        "        # my_plot(np.linspace(1, epoch_now_test, epoch_now_test).astype(int), acc_vals,\"Accuracy\",\"test\")\n",
        "        train_loss_final.append(loss_train)\n",
        "        test_loss_final.append(loss_vals)\n",
        "        train_acc_final.append(acc_train)\n",
        "        test_acc_final.append(acc_vals)\n",
        "        \n",
        "      # plottinf fold\n",
        "    # print(\"*=*=*=*=*=*=*=*=*=*=*=*=*=*=*\")\n",
        "    # for i in range(len(training_time)):\n",
        "    #   print(\"Fold ke = \",i+1)\n",
        "    #   print(training_time[i])\n",
        "\n",
        "    # torch.save(model.state_dict(),\"../../../drive/MyDrive/Skripsi (1)/GCN_Proposed_Method.pt\")\n",
        "    # Loss_train\n",
        "    # print(train_loss_final)\n",
        "    data_loss_train = np.array(train_loss_final)\n",
        "    # print(data_loss_train.shape)\n",
        "    avg_loss_train = np.average(data_loss_train, axis=0)\n",
        "  \n",
        "    # loss test\n",
        "    data_loss_test = np.array(test_loss_final)\n",
        "    avg_loss_test = np.average(data_loss_test, axis=0)\n",
        "    # Accuracy train\n",
        "    data_acc_train = np.array(train_acc_final)\n",
        "    avg_acc_train = np.average(data_acc_train, axis=0)\n",
        "    # Accuracy test\n",
        "    data_acc_test = np.array(test_acc_final)\n",
        "    avg_acc_test = np.average(data_acc_test, axis=0)\n",
        "    # plotting\n",
        "    print(\"Plotting akhir\")\n",
        "    plot_akhir_loss(30,avg_loss_train,avg_loss_test)\n",
        "    plot_akhir_acc(30,avg_acc_train,avg_acc_test)\n",
        "    print(\"=============================\")\n",
        "    return hasil"
      ]
    },
    {
      "cell_type": "code",
      "execution_count": 15,
      "metadata": {
        "colab": {
          "base_uri": "https://localhost:8080/"
        },
        "id": "wjKwiEYhcBk5",
        "outputId": "775017d4-505d-41c6-d06b-3c37bed6b842"
      },
      "outputs": [
        {
          "name": "stdout",
          "output_type": "stream",
          "text": [
            "test_delaunay  train_delaunay\n"
          ]
        }
      ],
      "source": [
        "os.chdir(\"Dataset\")\n",
        "\n",
        "!ls "
      ]
    },
    {
      "cell_type": "code",
      "execution_count": 16,
      "metadata": {
        "id": "h19hs0b-cCk2"
      },
      "outputs": [],
      "source": [
        "torch.cuda.empty_cache() \n",
        "import gc\n",
        "# del variables\n",
        "# gc.collect()\n",
        "# print(torch.cuda.memory_summary(device=None, abbreviated=False))\n"
      ]
    },
    {
      "cell_type": "code",
      "execution_count": 17,
      "metadata": {
        "id": "6SqGgdhil0yH"
      },
      "outputs": [],
      "source": [
        "# !pip install optuna"
      ]
    },
    {
      "cell_type": "code",
      "execution_count": 18,
      "metadata": {
        "colab": {
          "base_uri": "https://localhost:8080/"
        },
        "id": "1zP2ezvNQyqA",
        "outputId": "198afc93-d3a2-4573-e8f2-f08bcc040efc"
      },
      "outputs": [
        {
          "name": "stdout",
          "output_type": "stream",
          "text": [
            "TRAIN IDX:  0\n",
            "TRAIN IDX:  50\n",
            "TRAIN IDX:  100\n",
            "TRAIN IDX:  150\n",
            "TRAIN IDX:  200\n",
            "TRAIN IDX:  250\n",
            "TEST IDX:  0\n",
            "TEST IDX:  50\n"
          ]
        }
      ],
      "source": [
        "train_dataset,test_dataset = load_data()\n",
        "dataset = train_dataset + test_dataset\n",
        "\n",
        "# def objective(trial):\n",
        "#   BEST_PARAMETERS = {\n",
        "#     \"batch_size\": trial.suggest_int(\"batch_size\",32,128),\n",
        "#     \"learning_rate\": trial.suggest_float('learning_rate',0.001,0.1),\n",
        "#     \"weight_decay\": trial.suggest_float('weight_decay',5e-4,0.1),\n",
        "#     \"scheduler_gamma\":trial.suggest_float(\"scheduler_gamma\",0.001, 0.9),\n",
        "#     \"model_layers_size\":trial.suggest_int('layers_size',1,8),\n",
        "#     \"model_embedding_size\": trial.suggest_int(\"model_embedding_size\",16,128),\n",
        "#     'optimizer': trial.suggest_categorical(\"optimizer\", [\"Adam\", \"RMSprop\", \"SGD\"]),\n",
        "#     \"model_dropout_rate\": trial.suggest_float(\"model_dropout_rate\",0.2,0.8),\n",
        "#     \"model_dense_neurons\": trial.suggest_int(\"model_dense_neurons\",216,4096)\n",
        "#   }\n",
        "#   global dataset\n",
        "#   print(\"Dataaset:\",len(dataset))\n",
        "#   return run_one_training(BEST_PARAMETERS,dataset)\n",
        "\n"
      ]
    },
    {
      "cell_type": "code",
      "execution_count": 19,
      "metadata": {
        "id": "H5-iF0Q5TUhu"
      },
      "outputs": [],
      "source": [
        "# import warnings\n",
        "# warnings.filterwarnings('ignore')\n",
        "# study = optuna.create_study(direction=\"maximize\", sampler=optuna.samplers.TPESampler())\n",
        "# study.optimize(objective, n_trials=30)"
      ]
    },
    {
      "cell_type": "code",
      "execution_count": 20,
      "metadata": {
        "id": "HU03vae6NB6R"
      },
      "outputs": [],
      "source": [
        "# best_trial = study.best_trial\n",
        "\n",
        "# for key, value in best_trial.params.items():\n",
        "#     print(\"{}: {}\".format(key, value))\n",
        "# print(study.best_trial.value)"
      ]
    },
    {
      "cell_type": "code",
      "execution_count": 21,
      "metadata": {
        "id": "O2AA1kLGTaPi"
      },
      "outputs": [],
      "source": [
        "# optuna.visualization.plot_optimization_history(study)"
      ]
    },
    {
      "cell_type": "code",
      "execution_count": 22,
      "metadata": {
        "id": "xx1xqDfmOr_w"
      },
      "outputs": [],
      "source": [
        "\n",
        "# optuna.visualization.plot_param_importances(study)"
      ]
    },
    {
      "cell_type": "code",
      "execution_count": 23,
      "metadata": {
        "id": "pAFemPBqOtJN"
      },
      "outputs": [],
      "source": [
        "parameters = {\n",
        "    \n",
        "\"batch_size\": 64,\n",
        "\"learning_rate\": 0.0017482176977940307,\n",
        "\"weight_decay\": 0.01294674779434874,\n",
        "\"scheduler_gamma\": 0.8042648633451702,\n",
        "\"model_layers_size\": 4,\n",
        "\"model_embedding_size\": 91,\n",
        "\"optimizer\": \"Adam\",\n",
        "\"model_dropout_rate\": 0.5062707436806835,\n",
        "\"model_dense_neurons\": 3612,\n",
        "\n",
        "}\n"
      ]
    },
    {
      "cell_type": "code",
      "execution_count": 24,
      "metadata": {
        "colab": {
          "base_uri": "https://localhost:8080/",
          "height": 1000
        },
        "id": "3BQ4rxdeRC2s",
        "outputId": "da3eb190-6d63-4054-ef36-cfc31dc6fdc6"
      },
      "outputs": [
        {
          "name": "stdout",
          "output_type": "stream",
          "text": [
            "**********************\n",
            "Trial with:  {'batch_size': 64, 'learning_rate': 0.0017482176977940307, 'weight_decay': 0.01294674779434874, 'scheduler_gamma': 0.8042648633451702, 'model_layers_size': 4, 'model_embedding_size': 91, 'optimizer': 'Adam', 'model_dropout_rate': 0.5062707436806835, 'model_dense_neurons': 3612}\n",
            "Fold 0\n",
            "Fold 0\n",
            "Fold 1\n",
            "Fold 0\n",
            "Fold 1\n",
            "Fold 2\n",
            "Fold 0\n",
            "Fold 1\n",
            "Fold 2\n",
            "Fold 3\n",
            "Fold 0\n",
            "Fold 1\n",
            "Fold 2\n",
            "Fold 3\n",
            "Fold 4\n",
            "Plotting akhir\n",
            "losss\n",
            "0.0051882199851596466\n",
            "0.024805240728892387\n"
          ]
        },
        {
          "data": {
            "image/png": "[encoded data removed]",
            "text/plain": [
              "<Figure size 640x480 with 1 Axes>"
            ]
          },
          "metadata": {},
          "output_type": "display_data"
        },
        {
          "name": "stdout",
          "output_type": "stream",
          "text": [
            "Auc\n",
            "0.9527999897973499\n",
            "0.9114875056051526\n"
          ]
        },
        {
          "data": {
            "image/png": "[encoded data removed]",
            "text/plain": [
              "<Figure size 640x480 with 1 Axes>"
            ]
          },
          "metadata": {},
          "output_type": "display_data"
        },
        {
          "name": "stdout",
          "output_type": "stream",
          "text": [
            "=============================\n",
            "0.9114875056051526\n"
          ]
        }
      ],
      "source": [
        "import warnings\n",
        "warnings.filterwarnings('ignore')\n",
        "a= run_one_training(parameters,dataset)\n",
        "print(a)"
      ]
    },
    {
      "cell_type": "code",
      "execution_count": 24,
      "metadata": {
        "id": "IybAoRapT2Gt"
      },
      "outputs": [],
      "source": []
    }
  ],
  "metadata": {
    "accelerator": "GPU",
    "colab": {
      "provenance": []
    },
    "gpuClass": "standard",
    "kernelspec": {
      "display_name": "Python 3",
      "name": "python3"
    },
    "language_info": {
      "name": "python"
    }
  },
  "nbformat": 4,
  "nbformat_minor": 0
}
